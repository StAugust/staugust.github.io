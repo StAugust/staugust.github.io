{
 "cells": [
  {
   "cell_type": "code",
   "execution_count": 1,
   "metadata": {
    "collapsed": true
   },
   "outputs": [],
   "source": [
    "#https://www.kaggle.com/mit/pantheon-project\n",
    "\n",
    "import numpy as np\n",
    "import sklearn as skl\n",
    "import pandas as pd\n",
    "from matplotlib import pyplot as plt"
   ]
  },
  {
   "cell_type": "code",
   "execution_count": 2,
   "metadata": {
    "collapsed": true
   },
   "outputs": [],
   "source": [
    "df = pd.read_csv(\"D:/kaggle/database.csv\")"
   ]
  },
  {
   "cell_type": "code",
   "execution_count": 4,
   "metadata": {},
   "outputs": [
    {
     "data": {
      "text/plain": [
       "Index(['article_id', 'full_name', 'sex', 'birth_year', 'city', 'state',\n",
       "       'country', 'continent', 'latitude', 'longitude', 'occupation',\n",
       "       'industry', 'domain', 'article_languages', 'page_views',\n",
       "       'average_views', 'historical_popularity_index'],\n",
       "      dtype='object')"
      ]
     },
     "execution_count": 4,
     "metadata": {},
     "output_type": "execute_result"
    }
   ],
   "source": [
    "df.columns"
   ]
  },
  {
   "cell_type": "code",
   "execution_count": 8,
   "metadata": {},
   "outputs": [
    {
     "data": {
      "text/plain": [
       "0        40.33333\n",
       "1        37.96667\n",
       "2        32.50000\n",
       "3        37.96667\n",
       "4        40.80000\n",
       "5        43.78333\n",
       "6             NaN\n",
       "7        41.90000\n",
       "8        38.41861\n",
       "9        37.75000\n",
       "10       37.08333\n",
       "11            NaN\n",
       "12       21.41667\n",
       "13       33.70000\n",
       "14       48.25833\n",
       "15       47.80000\n",
       "16            NaN\n",
       "17       52.19000\n",
       "18       43.63333\n",
       "19       41.90000\n",
       "20       41.92670\n",
       "21       52.80986\n",
       "22       48.40000\n",
       "23       44.41111\n",
       "24       50.97611\n",
       "25       43.78333\n",
       "26       50.73399\n",
       "27       27.53333\n",
       "28       31.20000\n",
       "29       51.51667\n",
       "           ...   \n",
       "11311   -26.31667\n",
       "11312         NaN\n",
       "11313   -26.20444\n",
       "11314    33.76833\n",
       "11315         NaN\n",
       "11316    26.27056\n",
       "11317    24.86000\n",
       "11318    40.39528\n",
       "11319    20.63972\n",
       "11320    34.98000\n",
       "11321   -14.46667\n",
       "11322    34.78333\n",
       "11323    40.40000\n",
       "11324    17.98333\n",
       "11325    14.61333\n",
       "11326    55.75000\n",
       "11327     6.66667\n",
       "11328     2.03333\n",
       "11329   -27.46667\n",
       "11330    50.15556\n",
       "11331    52.63300\n",
       "11332         NaN\n",
       "11333    30.25000\n",
       "11334    40.26022\n",
       "11335    51.91667\n",
       "11336    52.41290\n",
       "11337    29.16670\n",
       "11338    54.90000\n",
       "11339    48.14389\n",
       "11340    34.15611\n",
       "Name: latitude, Length: 11341, dtype: float64"
      ]
     },
     "execution_count": 8,
     "metadata": {},
     "output_type": "execute_result"
    }
   ],
   "source": [
    "df.latitude"
   ]
  },
  {
   "cell_type": "code",
   "execution_count": null,
   "metadata": {
    "collapsed": true
   },
   "outputs": [],
   "source": []
  },
  {
   "cell_type": "code",
   "execution_count": null,
   "metadata": {
    "collapsed": true
   },
   "outputs": [],
   "source": []
  },
  {
   "cell_type": "code",
   "execution_count": null,
   "metadata": {
    "collapsed": true
   },
   "outputs": [],
   "source": []
  },
  {
   "cell_type": "code",
   "execution_count": null,
   "metadata": {
    "collapsed": true
   },
   "outputs": [],
   "source": []
  },
  {
   "cell_type": "code",
   "execution_count": null,
   "metadata": {
    "collapsed": true
   },
   "outputs": [],
   "source": []
  }
 ],
 "metadata": {
  "kernelspec": {
   "display_name": "Python 3",
   "language": "python",
   "name": "python3"
  },
  "language_info": {
   "codemirror_mode": {
    "name": "ipython",
    "version": 3
   },
   "file_extension": ".py",
   "mimetype": "text/x-python",
   "name": "python",
   "nbconvert_exporter": "python",
   "pygments_lexer": "ipython3",
   "version": "3.6.1"
  }
 },
 "nbformat": 4,
 "nbformat_minor": 2
}
